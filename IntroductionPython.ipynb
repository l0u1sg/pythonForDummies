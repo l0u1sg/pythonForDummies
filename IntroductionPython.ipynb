{
 "cells": [
  {
   "cell_type": "markdown",
   "source": [
    "# Python intro\n",
    "## Calculs\n",
    "Une des premières fonctionnalités d'un interpréteur est de faire des calculs:\n"
   ],
   "metadata": {
    "collapsed": false
   },
   "id": "554ffcbe970fec3d"
  },
  {
   "cell_type": "code",
   "execution_count": null,
   "outputs": [],
   "source": [
    "1+2"
   ],
   "metadata": {
    "collapsed": false
   },
   "id": "44477824f6dcb0ab"
  },
  {
   "cell_type": "code",
   "execution_count": null,
   "outputs": [],
   "source": [
    "1 + 2"
   ],
   "metadata": {
    "collapsed": false
   },
   "id": "53cb316180ad9217"
  },
  {
   "cell_type": "code",
   "execution_count": null,
   "outputs": [],
   "source": [
    "1-10"
   ],
   "metadata": {
    "collapsed": false
   },
   "id": "fa9d2c16f71dbf0d"
  },
  {
   "cell_type": "code",
   "execution_count": null,
   "outputs": [],
   "source": [
    "2*10"
   ],
   "metadata": {
    "collapsed": false
   },
   "id": "38e7b4bf62a7c82b"
  },
  {
   "cell_type": "code",
   "execution_count": null,
   "outputs": [],
   "source": [
    "100/4"
   ],
   "metadata": {
    "collapsed": false
   },
   "id": "dc0accb28b7ddf0b"
  },
  {
   "cell_type": "code",
   "execution_count": null,
   "outputs": [],
   "source": [
    "10%4"
   ],
   "metadata": {
    "collapsed": false
   },
   "id": "c1c45f49e40e48a7"
  },
  {
   "cell_type": "code",
   "execution_count": null,
   "outputs": [],
   "source": [
    "2**3"
   ],
   "metadata": {
    "collapsed": false
   },
   "id": "e7dcd1a8d8e502f9"
  },
  {
   "cell_type": "markdown",
   "source": [
    "## Les variables"
   ],
   "metadata": {
    "collapsed": false
   },
   "id": "785885b27c34f3f4"
  },
  {
   "cell_type": "code",
   "execution_count": null,
   "outputs": [],
   "source": [
    "age = 30"
   ],
   "metadata": {
    "collapsed": false
   },
   "id": "b3185a88d9ff43dd"
  },
  {
   "cell_type": "code",
   "execution_count": null,
   "outputs": [],
   "source": [
    "print(age)"
   ],
   "metadata": {
    "collapsed": false
   },
   "id": "45a0e839d6c9d358"
  },
  {
   "cell_type": "code",
   "execution_count": null,
   "outputs": [],
   "source": [
    "age = 30\n",
    "age = age + 10\n",
    "print(age)"
   ],
   "metadata": {
    "collapsed": false
   },
   "id": "df05cdde1d557940"
  },
  {
   "cell_type": "code",
   "execution_count": null,
   "outputs": [],
   "source": [
    "age = \"J'ai 30 ans\"\n",
    "print(age)"
   ],
   "metadata": {
    "collapsed": false
   },
   "id": "75e491ee1cad3d0f"
  },
  {
   "cell_type": "code",
   "execution_count": null,
   "outputs": [],
   "source": [
    "age = age + \" et je suis encore jeune!\"\n",
    "print(age)"
   ],
   "metadata": {
    "collapsed": false
   },
   "id": "fd1944dcd94ad164"
  },
  {
   "cell_type": "markdown",
   "source": [
    "### Les types de variables"
   ],
   "metadata": {
    "collapsed": false
   },
   "id": "1b22ac2ec57d4be0"
  },
  {
   "cell_type": "code",
   "execution_count": null,
   "outputs": [],
   "source": [
    "v = 15\n",
    "type(v)"
   ],
   "metadata": {
    "collapsed": false
   },
   "id": "23a2152abfe0e72d"
  },
  {
   "cell_type": "code",
   "execution_count": null,
   "outputs": [],
   "source": [
    "v = \"Olivier\"\n",
    "type(v)"
   ],
   "metadata": {
    "collapsed": false
   },
   "id": "dbce758277c86ef1"
  },
  {
   "cell_type": "code",
   "execution_count": null,
   "outputs": [],
   "source": [
    "v = 3.2\n",
    "type(v)"
   ],
   "metadata": {
    "collapsed": false
   },
   "id": "4efeb1a5c4f1afe"
  },
  {
   "cell_type": "markdown",
   "source": [
    "## Les listes"
   ],
   "metadata": {
    "collapsed": false
   },
   "id": "2bd66b322746c24a"
  },
  {
   "cell_type": "code",
   "execution_count": null,
   "outputs": [],
   "source": [
    "liste = []"
   ],
   "metadata": {
    "collapsed": false
   },
   "id": "bc808fe1fc02b815"
  },
  {
   "cell_type": "code",
   "execution_count": null,
   "outputs": [],
   "source": [
    "liste"
   ],
   "metadata": {
    "collapsed": false
   },
   "id": "8aee6549bf3915f0"
  },
  {
   "cell_type": "code",
   "execution_count": null,
   "outputs": [],
   "source": [
    "liste = [1,2,3]\n",
    "print(liste)"
   ],
   "metadata": {
    "collapsed": false
   },
   "id": "99bf5065a44ec388"
  },
  {
   "cell_type": "code",
   "execution_count": null,
   "outputs": [],
   "source": [
    "liste = []\n",
    "print(liste)"
   ],
   "metadata": {
    "collapsed": false
   },
   "id": "8e8e756f13b60ae9"
  },
  {
   "cell_type": "code",
   "execution_count": null,
   "outputs": [],
   "source": [
    "liste.append(1)\n",
    "print(liste)"
   ],
   "metadata": {
    "collapsed": false
   },
   "id": "76cd15df8377b74c"
  },
  {
   "cell_type": "code",
   "execution_count": null,
   "outputs": [],
   "source": [
    "liste.append(\"ok\")\n",
    "print(liste)"
   ],
   "metadata": {
    "collapsed": false
   },
   "id": "70c6c91941c786eb"
  },
  {
   "cell_type": "code",
   "execution_count": null,
   "outputs": [],
   "source": [
    "liste = [\"a\",\"d\",\"m\"]"
   ],
   "metadata": {
    "collapsed": false
   },
   "id": "e104fd5727f455d7"
  },
  {
   "cell_type": "code",
   "execution_count": null,
   "outputs": [],
   "source": [
    "liste[0]"
   ],
   "metadata": {
    "collapsed": false
   },
   "id": "67db24f54afc67e9"
  },
  {
   "cell_type": "code",
   "execution_count": null,
   "outputs": [],
   "source": [
    "liste[2]"
   ],
   "metadata": {
    "collapsed": false
   },
   "id": "a848794c3c3019dd"
  },
  {
   "cell_type": "code",
   "execution_count": null,
   "outputs": [],
   "source": [
    "liste[2] = \"z\""
   ],
   "metadata": {
    "collapsed": false
   },
   "id": "8a2a038f65e641ee"
  },
  {
   "cell_type": "code",
   "execution_count": null,
   "outputs": [],
   "source": [
    "liste = [\"a\", \"b\", \"c\"]\n",
    "del liste[1]\n",
    "print(liste)"
   ],
   "metadata": {
    "collapsed": false
   },
   "id": "efcb7cef5f3446d8"
  },
  {
   "cell_type": "code",
   "execution_count": null,
   "outputs": [],
   "source": [
    "liste = [\"a\", \"b\", \"c\"]\n",
    "liste.remove(\"a\")\n",
    "print(liste)"
   ],
   "metadata": {
    "collapsed": false
   },
   "id": "8477da993faf52b8"
  },
  {
   "cell_type": "code",
   "execution_count": null,
   "outputs": [],
   "source": [
    "liste = [\"a\", \"b\", \"c\"]\n",
    "liste.reverse()\n",
    "print(liste)"
   ],
   "metadata": {
    "collapsed": false
   },
   "id": "704c563f526af83"
  },
  {
   "cell_type": "code",
   "execution_count": null,
   "outputs": [],
   "source": [
    "liste = [1,2,3,5,10]\n",
    "print(len(liste))"
   ],
   "metadata": {
    "collapsed": false
   },
   "id": "fdb2cc9f611cdb04"
  },
  {
   "cell_type": "code",
   "execution_count": null,
   "outputs": [],
   "source": [
    "liste = [\"a\",\"a\",\"a\",\"b\",\"c\",\"c\"]\n",
    "print(liste.count(\"a\"))\n",
    "print(liste.count(\"c\"))"
   ],
   "metadata": {
    "collapsed": false
   },
   "id": "3666c0b13223e088"
  },
  {
   "cell_type": "markdown",
   "source": [
    "## Les boucles\n"
   ],
   "metadata": {
    "collapsed": false
   },
   "id": "4c92afa079eea9c9"
  },
  {
   "cell_type": "code",
   "execution_count": null,
   "outputs": [],
   "source": [
    "for i in range(5):\n",
    "    print(\"Hello World!\")"
   ],
   "metadata": {
    "collapsed": false
   },
   "id": "a3f2ad630129d510"
  },
  {
   "cell_type": "code",
   "execution_count": null,
   "outputs": [],
   "source": [
    "i = 0\n",
    "while i < 5:\n",
    "    print(\"Hello World!\")\n",
    "    i += 1"
   ],
   "metadata": {
    "collapsed": false
   },
   "id": "e682eb5f41a8db64"
  },
  {
   "cell_type": "code",
   "execution_count": null,
   "outputs": [],
   "source": [
    "liste = [1,2,3,5,10]\n",
    "for element in liste:\n",
    "    print(element)"
   ],
   "metadata": {
    "collapsed": false
   },
   "id": "a697eecff0542261"
  },
  {
   "cell_type": "markdown",
   "source": [
    "## Les fonctions"
   ],
   "metadata": {
    "collapsed": false
   },
   "id": "b024125b0e0e998"
  },
  {
   "cell_type": "code",
   "execution_count": null,
   "outputs": [],
   "source": [
    "def addition(a, b):\n",
    "    return a + b"
   ],
   "metadata": {
    "collapsed": false
   },
   "id": "17bff5241297e84c"
  },
  {
   "cell_type": "code",
   "execution_count": null,
   "outputs": [],
   "source": [
    "def myAge(age):\n",
    "    return \"tu as \" + str(age) + \" ans\""
   ],
   "metadata": {
    "collapsed": false
   },
   "id": "e3c10784a2e3624c"
  },
  {
   "cell_type": "code",
   "execution_count": null,
   "outputs": [],
   "source": [
    "print(addition(10,20))\n",
    "print(myAge(23))"
   ],
   "metadata": {
    "collapsed": false
   },
   "id": "572967f72ae9817e"
  },
  {
   "cell_type": "markdown",
   "source": [
    "## If/Else"
   ],
   "metadata": {
    "collapsed": false
   },
   "id": "4239b8130614da16"
  },
  {
   "cell_type": "code",
   "execution_count": null,
   "outputs": [],
   "source": [
    "def isMajeur(age: int) -> bool:\n",
    "    if age >= 18:\n",
    "        return True\n",
    "    else:\n",
    "        return False"
   ],
   "metadata": {
    "collapsed": false
   },
   "id": "a3706fd034474b9f"
  },
  {
   "cell_type": "code",
   "execution_count": null,
   "outputs": [],
   "source": [
    "print(isMajeur(18))\n",
    "print(isMajeur(55))\n",
    "print(isMajeur(12))"
   ],
   "metadata": {
    "collapsed": false
   },
   "id": "cc7d9fd1e82b4df4"
  }
 ],
 "metadata": {
  "kernelspec": {
   "display_name": "Python 3",
   "language": "python",
   "name": "python3"
  },
  "language_info": {
   "codemirror_mode": {
    "name": "ipython",
    "version": 2
   },
   "file_extension": ".py",
   "mimetype": "text/x-python",
   "name": "python",
   "nbconvert_exporter": "python",
   "pygments_lexer": "ipython2",
   "version": "2.7.6"
  }
 },
 "nbformat": 4,
 "nbformat_minor": 5
}
